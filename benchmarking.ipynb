{
 "cells": [
  {
   "metadata": {
    "ExecuteTime": {
     "end_time": "2024-09-02T08:51:18.790385Z",
     "start_time": "2024-09-02T08:51:01.237167Z"
    }
   },
   "cell_type": "code",
   "source": "!pip install torch",
   "id": "3f8e526b0f408b82",
   "outputs": [
    {
     "name": "stdout",
     "output_type": "stream",
     "text": [
      "Collecting torch\r\n",
      "  Downloading torch-2.4.0-cp39-none-macosx_11_0_arm64.whl.metadata (26 kB)\r\n",
      "Collecting filelock (from torch)\r\n",
      "  Using cached filelock-3.15.4-py3-none-any.whl.metadata (2.9 kB)\r\n",
      "Requirement already satisfied: typing-extensions>=4.8.0 in /Users/vinodkiran/miniforge3/envs/dl-course/lib/python3.9/site-packages (from torch) (4.11.0)\r\n",
      "Collecting sympy (from torch)\r\n",
      "  Using cached sympy-1.13.2-py3-none-any.whl.metadata (12 kB)\r\n",
      "Collecting networkx (from torch)\r\n",
      "  Downloading networkx-3.2.1-py3-none-any.whl.metadata (5.2 kB)\r\n",
      "Requirement already satisfied: jinja2 in /Users/vinodkiran/miniforge3/envs/dl-course/lib/python3.9/site-packages (from torch) (3.1.4)\r\n",
      "Collecting fsspec (from torch)\r\n",
      "  Using cached fsspec-2024.6.1-py3-none-any.whl.metadata (11 kB)\r\n",
      "Requirement already satisfied: MarkupSafe>=2.0 in /Users/vinodkiran/miniforge3/envs/dl-course/lib/python3.9/site-packages (from jinja2->torch) (2.1.3)\r\n",
      "Collecting mpmath<1.4,>=1.1.0 (from sympy->torch)\r\n",
      "  Using cached mpmath-1.3.0-py3-none-any.whl.metadata (8.6 kB)\r\n",
      "Downloading torch-2.4.0-cp39-none-macosx_11_0_arm64.whl (62.1 MB)\r\n",
      "\u001B[2K   \u001B[90m━━━━━━━━━━━━━━━━━━━━━━━━━━━━━━━━━━━━━━━━\u001B[0m \u001B[32m62.1/62.1 MB\u001B[0m \u001B[31m8.2 MB/s\u001B[0m eta \u001B[36m0:00:00\u001B[0m00:01\u001B[0m00:01\u001B[0m\r\n",
      "\u001B[?25hUsing cached filelock-3.15.4-py3-none-any.whl (16 kB)\r\n",
      "Using cached fsspec-2024.6.1-py3-none-any.whl (177 kB)\r\n",
      "Downloading networkx-3.2.1-py3-none-any.whl (1.6 MB)\r\n",
      "\u001B[2K   \u001B[90m━━━━━━━━━━━━━━━━━━━━━━━━━━━━━━━━━━━━━━━━\u001B[0m \u001B[32m1.6/1.6 MB\u001B[0m \u001B[31m8.6 MB/s\u001B[0m eta \u001B[36m0:00:00\u001B[0m\r\n",
      "\u001B[?25hUsing cached sympy-1.13.2-py3-none-any.whl (6.2 MB)\r\n",
      "Using cached mpmath-1.3.0-py3-none-any.whl (536 kB)\r\n",
      "Installing collected packages: mpmath, sympy, networkx, fsspec, filelock, torch\r\n",
      "Successfully installed filelock-3.15.4 fsspec-2024.6.1 mpmath-1.3.0 networkx-3.2.1 sympy-1.13.2 torch-2.4.0\r\n"
     ]
    }
   ],
   "execution_count": 9
  },
  {
   "metadata": {
    "ExecuteTime": {
     "end_time": "2024-09-02T08:56:24.586245Z",
     "start_time": "2024-09-02T08:56:24.582233Z"
    }
   },
   "cell_type": "code",
   "source": [
    "import random\n",
    "\n",
    "random.seed(123)\n",
    "\n",
    "b = 0.\n",
    "x = [random.random() for i in range(1000)]\n",
    "w = [random.random() for i in range(1000)]"
   ],
   "id": "a079a8e6c9fcc8d0",
   "outputs": [],
   "execution_count": 16
  },
  {
   "metadata": {
    "collapsed": true,
    "ExecuteTime": {
     "end_time": "2024-09-02T08:56:22.857888Z",
     "start_time": "2024-09-02T08:56:22.855214Z"
    }
   },
   "cell_type": "code",
   "outputs": [],
   "execution_count": 15,
   "source": [
    "def plain_python(x,w,b):\n",
    "    output = b\n",
    "    for x_j, w_j in zip(x, w):\n",
    "        output += x_j * w_j\n",
    "    return output"
   ],
   "id": "initial_id"
  },
  {
   "metadata": {
    "ExecuteTime": {
     "end_time": "2024-09-02T09:04:19.862469Z",
     "start_time": "2024-09-02T09:04:19.859307Z"
    }
   },
   "cell_type": "code",
   "source": [
    "def pytorch_dot_gpu(x,w,b):\n",
    "    return x.dot(w).to('mps') + b.to('mps')"
   ],
   "id": "6a950b7d982902b6",
   "outputs": [],
   "execution_count": 39
  },
  {
   "metadata": {
    "ExecuteTime": {
     "end_time": "2024-09-02T08:58:05.170882Z",
     "start_time": "2024-09-02T08:58:05.167907Z"
    }
   },
   "cell_type": "code",
   "source": [
    "def pytorch_dot(x,w,b):\n",
    "    return x.dot(w) + b"
   ],
   "id": "167d20059b3a3b22",
   "outputs": [],
   "execution_count": 26
  },
  {
   "metadata": {
    "ExecuteTime": {
     "end_time": "2024-09-02T08:51:47.539138Z",
     "start_time": "2024-09-02T08:51:44.733715Z"
    }
   },
   "cell_type": "code",
   "source": [
    "%reload_ext watermark\n",
    "%watermark -v -p numpy,pandas,matplotlib,torch"
   ],
   "id": "2734d38af78f8c8a",
   "outputs": [
    {
     "name": "stdout",
     "output_type": "stream",
     "text": [
      "Python implementation: CPython\n",
      "Python version       : 3.9.19\n",
      "IPython version      : 8.15.0\n",
      "\n",
      "numpy     : 1.26.4\n",
      "pandas    : 2.2.2\n",
      "matplotlib: 3.8.4\n",
      "torch     : 2.4.0\n",
      "\n"
     ]
    }
   ],
   "execution_count": 12
  },
  {
   "metadata": {
    "ExecuteTime": {
     "end_time": "2024-09-02T09:05:56.565672Z",
     "start_time": "2024-09-02T09:05:56.562478Z"
    }
   },
   "cell_type": "code",
   "source": [
    "import torch\n",
    "t_b = torch.tensor(b)\n",
    "t_x = torch.tensor(x)\n",
    "t_w = torch.tensor(w)\n"
   ],
   "id": "d6dc29905ed47f4c",
   "outputs": [],
   "execution_count": 42
  },
  {
   "metadata": {
    "ExecuteTime": {
     "end_time": "2024-09-02T09:30:22.383341Z",
     "start_time": "2024-09-02T09:30:22.368034Z"
    }
   },
   "cell_type": "code",
   "source": [
    "t_b_gpu = torch.tensor(b).to('mps')\n",
    "t_x_gpu = torch.tensor(x).to('mps')\n",
    "t_w_gpu = torch.tensor(w).to('mps')\n",
    "\n",
    "t_x_gpu.device"
   ],
   "id": "91403381a39f4b01",
   "outputs": [
    {
     "data": {
      "text/plain": [
       "device(type='mps', index=0)"
      ]
     },
     "execution_count": 44,
     "metadata": {},
     "output_type": "execute_result"
    }
   ],
   "execution_count": 44
  },
  {
   "metadata": {
    "ExecuteTime": {
     "end_time": "2024-09-02T09:01:49.521555Z",
     "start_time": "2024-09-02T09:01:47.639569Z"
    }
   },
   "cell_type": "code",
   "source": "%timeit plain_python(x,w,b)",
   "id": "eca2cdd2b133ccee",
   "outputs": [
    {
     "name": "stdout",
     "output_type": "stream",
     "text": [
      "22.9 µs ± 518 ns per loop (mean ± std. dev. of 7 runs, 10,000 loops each)\n"
     ]
    }
   ],
   "execution_count": 37
  },
  {
   "metadata": {
    "ExecuteTime": {
     "end_time": "2024-09-02T09:06:09.184075Z",
     "start_time": "2024-09-02T09:06:00.685254Z"
    }
   },
   "cell_type": "code",
   "source": "%timeit pytorch_dot(t_x,t_w,t_b)",
   "id": "f40ca88e1f47b8e0",
   "outputs": [
    {
     "name": "stdout",
     "output_type": "stream",
     "text": [
      "1.04 µs ± 9.54 ns per loop (mean ± std. dev. of 7 runs, 1,000,000 loops each)\n"
     ]
    }
   ],
   "execution_count": 43
  },
  {
   "metadata": {
    "ExecuteTime": {
     "end_time": "2024-09-02T09:04:25.292671Z",
     "start_time": "2024-09-02T09:04:23.422462Z"
    }
   },
   "cell_type": "code",
   "source": "%timeit pytorch_dot_gpu(t_x_gpu,t_w_gpu,t_b_gpu)",
   "id": "e7ddf980f2dfe79e",
   "outputs": [
    {
     "name": "stdout",
     "output_type": "stream",
     "text": [
      "22.8 µs ± 390 ns per loop (mean ± std. dev. of 7 runs, 10,000 loops each)\n"
     ]
    }
   ],
   "execution_count": 40
  }
 ],
 "metadata": {
  "kernelspec": {
   "display_name": "Python 3",
   "language": "python",
   "name": "python3"
  },
  "language_info": {
   "codemirror_mode": {
    "name": "ipython",
    "version": 2
   },
   "file_extension": ".py",
   "mimetype": "text/x-python",
   "name": "python",
   "nbconvert_exporter": "python",
   "pygments_lexer": "ipython2",
   "version": "2.7.6"
  }
 },
 "nbformat": 4,
 "nbformat_minor": 5
}
